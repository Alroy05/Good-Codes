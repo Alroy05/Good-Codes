{
 "cells": [
  {
   "cell_type": "code",
   "execution_count": 2,
   "id": "0ccd35da",
   "metadata": {},
   "outputs": [],
   "source": [
    "#Consider rainy - 0 , overcast - 1 , sunny - 2\n",
    "# hot-0 , mild - 1, cool - 2\n",
    "# normal - 0 , high - 1\n",
    "# f - 0 , t - 1\n",
    "# no - 0 , yes - 1\n",
    "\n",
    "dataset = [\n",
    "           [0,0,1,0,0],\n",
    "           [0,0,1,1,0],\n",
    "           [1,0,1,0,1],\n",
    "           [2,1,1,0,1],\n",
    "           [2,2,0,0,1],\n",
    "           [2,2,0,1,0],\n",
    "           [1,2,0,1,1],\n",
    "           [0,1,1,0,0],\n",
    "           [0,2,0,0,1],\n",
    "           [2,1,0,0,1],\n",
    "           [0,1,0,1,1],\n",
    "           [1,1,1,1,1],\n",
    "           [1,0,0,0,1],\n",
    "           [2,1,1,1,0]\n",
    "           ]"
   ]
  },
  {
   "cell_type": "code",
   "execution_count": 4,
   "id": "ce8cc2e1",
   "metadata": {},
   "outputs": [
    {
     "name": "stdout",
     "output_type": "stream",
     "text": [
      "[0, 0, 1, 0, 0] 0\n",
      "[0, 0, 1, 1, 0] 0\n",
      "[1, 0, 1, 0, 1] 1\n",
      "[2, 1, 1, 0, 1] 1\n",
      "[2, 2, 0, 0, 1] 1\n",
      "[2, 2, 0, 1, 0] 0\n",
      "[1, 2, 0, 1, 1] 1\n",
      "[0, 1, 1, 0, 0] 0\n",
      "[0, 2, 0, 0, 1] 1\n",
      "[2, 1, 0, 0, 1] 1\n",
      "[0, 1, 0, 1, 1] 1\n",
      "[1, 1, 1, 1, 1] 1\n",
      "[1, 0, 0, 0, 1] 1\n",
      "[2, 1, 1, 1, 0] 0\n",
      "0\n",
      "[0, 0, 1, 0, 0]\n",
      "[0, 0, 1, 1, 0]\n",
      "[2, 2, 0, 1, 0]\n",
      "[0, 1, 1, 0, 0]\n",
      "[2, 1, 1, 1, 0]\n",
      "1\n",
      "[1, 0, 1, 0, 1]\n",
      "[2, 1, 1, 0, 1]\n",
      "[2, 2, 0, 0, 1]\n",
      "[1, 2, 0, 1, 1]\n",
      "[0, 2, 0, 0, 1]\n",
      "[2, 1, 0, 0, 1]\n",
      "[0, 1, 0, 1, 1]\n",
      "[1, 1, 1, 1, 1]\n",
      "[1, 0, 0, 0, 1]\n"
     ]
    }
   ],
   "source": [
    "#Created a dict with 2 keys(0,1) to segrigate rows based on play.\n",
    "\n",
    "\n",
    "mp = dict()\n",
    "for i in range(len(dataset)):\n",
    "    row = dataset[i]\n",
    "    y = row[-1]\n",
    "    print(row,row[-1])\n",
    "    if (y not in mp):\n",
    "        mp[y] = list()\n",
    "    mp[y].append(row)\n",
    "#     print(f\"mp:{mp}\")\n",
    "for label in mp:\n",
    "    print(label)\n",
    "    for row in mp[label]:\n",
    "        print(row)"
   ]
  },
  {
   "cell_type": "code",
   "execution_count": 3,
   "id": "95bf18a6",
   "metadata": {},
   "outputs": [],
   "source": [
    "test = [2,1,0,1]"
   ]
  },
  {
   "cell_type": "code",
   "execution_count": 12,
   "id": "7315e986",
   "metadata": {},
   "outputs": [
    {
     "name": "stdout",
     "output_type": "stream",
     "text": [
      "Total yes: 9 / 14\n",
      "for feature 1\n",
      "3 / 9\n",
      "for feature 2\n",
      "4 / 9\n",
      "for feature 3\n",
      "6 / 9\n",
      "for feature 4\n",
      "3 / 9\n",
      "Total no: 5 / 14\n",
      "for feature 1\n",
      "2 / 5\n",
      "for feature 2\n",
      "2 / 5\n",
      "for feature 3\n",
      "1 / 5\n",
      "for feature 4\n",
      "3 / 5\n"
     ]
    }
   ],
   "source": [
    "probYes = 1\n",
    "\n",
    "count = 0\n",
    "total = 0\n",
    "for row in dataset:\n",
    "    if(row[-1] == 1):\n",
    "        count+=1\n",
    "    total+=1\n",
    "print(\"Total yes: \"+str(count)+\" / \"+str(total))\n",
    "probYes = probYes * count/total\n",
    "for i in range(len(test)):\n",
    "    count = 0\n",
    "    total = 0\n",
    "    for row in mp[1]:\n",
    "        if(test[i] == row[i]):\n",
    "            count += 1\n",
    "        total += 1\n",
    "    print('for feature '+str(i+1))\n",
    "    print(str(count)+\" / \"+str(total))\n",
    "    probYes = probYes * count/total\n",
    "\n",
    "probNo = 1\n",
    "count = 0\n",
    "total = 0\n",
    "for row in dataset:\n",
    "    if(row[-1] == 0):\n",
    "        count+=1\n",
    "    total+=1\n",
    "probNo = probNo * count/total\n",
    "print(\"Total no: \"+str(count)+\" / \"+str(total))\n",
    "for i in range(len(test)):\n",
    "    count = 0\n",
    "    total = 0\n",
    "    for row in mp[0]:\n",
    "        if(test[i] == row[i]):\n",
    "            count += 1\n",
    "        total += 1\n",
    "    print('for feature '+str(i+1))\n",
    "    print(str(count)+\" / \"+str(total))\n",
    "    probNo = probNo * count/total"
   ]
  },
  {
   "cell_type": "code",
   "execution_count": 13,
   "id": "3fac0e85",
   "metadata": {},
   "outputs": [
    {
     "name": "stdout",
     "output_type": "stream",
     "text": [
      "0.02116402116402117\n",
      "0.006857142857142858\n"
     ]
    }
   ],
   "source": [
    "print(probYes)\n",
    "print(probNo)"
   ]
  },
  {
   "cell_type": "code",
   "execution_count": 14,
   "id": "2f2491e3",
   "metadata": {},
   "outputs": [
    {
     "name": "stdout",
     "output_type": "stream",
     "text": [
      "76%\n"
     ]
    }
   ],
   "source": [
    "prob = probYes/(probYes + probNo)\n",
    "print(str(round(prob*100))+\"%\")"
   ]
  },
  {
   "cell_type": "code",
   "execution_count": null,
   "id": "b7add1c9",
   "metadata": {},
   "outputs": [],
   "source": []
  }
 ],
 "metadata": {
  "kernelspec": {
   "display_name": "Python 3 (ipykernel)",
   "language": "python",
   "name": "python3"
  },
  "language_info": {
   "codemirror_mode": {
    "name": "ipython",
    "version": 3
   },
   "file_extension": ".py",
   "mimetype": "text/x-python",
   "name": "python",
   "nbconvert_exporter": "python",
   "pygments_lexer": "ipython3",
   "version": "3.11.1"
  }
 },
 "nbformat": 4,
 "nbformat_minor": 5
}
