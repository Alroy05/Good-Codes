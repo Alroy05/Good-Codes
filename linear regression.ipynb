{
 "cells": [
  {
   "cell_type": "code",
   "execution_count": 7,
   "id": "da26aa6f",
   "metadata": {},
   "outputs": [],
   "source": [
    "import numpy as np"
   ]
  },
  {
   "cell_type": "code",
   "execution_count": 8,
   "id": "64387134",
   "metadata": {},
   "outputs": [],
   "source": [
    "#we will take air_velocity => x\n",
    "#we will take evp_coeff_array => y\n",
    "\n",
    "airvelocity = np.array([30,70,110,150,180,220,260,300,350,390])\n",
    "evp_coeff_array = np.array([0.18, 0.37, 0.35, 0.78, 0.56, 0.75, 1.18, 1.36, 1.17, 1.65])"
   ]
  },
  {
   "cell_type": "code",
   "execution_count": 9,
   "id": "b487f6f3",
   "metadata": {},
   "outputs": [
    {
     "name": "stdout",
     "output_type": "stream",
     "text": [
      "mean of x:206.0\n",
      "mean of y:0.835\n"
     ]
    }
   ],
   "source": [
    "mean_x = np.mean(airvelocity)\n",
    "mean_y = np.mean(evp_coeff_array)\n",
    "\n",
    "print(f\"mean of x:{mean_x}\\nmean of y:{mean_y}\")"
   ]
  },
  {
   "cell_type": "code",
   "execution_count": 10,
   "id": "3332e2eb",
   "metadata": {},
   "outputs": [
    {
     "name": "stdout",
     "output_type": "stream",
     "text": [
      "0.003877092374457532\n",
      "0.03631897086174829\n",
      "[0.15263174 0.30771544 0.46279913 0.61788283 0.7341956  0.88927929\n",
      " 1.04436299 1.19944668 1.3933013  1.548385  ]\n"
     ]
    }
   ],
   "source": [
    "numerator = np.sum((airvelocity - mean_x)*(evp_coeff_array - mean_y ))\n",
    "\n",
    "denominator = np.sum((airvelocity - mean_x)**2)\n",
    "\n",
    "b1 = np.sum(numerator/denominator)\n",
    "\n",
    "print(b1)\n",
    "\n",
    "b0 = mean_y - (b1*mean_x) \n",
    "\n",
    "print(b0)\n",
    "\n",
    "def predict(airvelo):\n",
    "    return b0 + (b1*airvelo)\n",
    "\n",
    "y_predicted = predict(airvelocity)\n",
    "    \n",
    "print(y_predicted)"
   ]
  },
  {
   "cell_type": "code",
   "execution_count": 11,
   "id": "b53b8d49",
   "metadata": {},
   "outputs": [
    {
     "name": "stdout",
     "output_type": "stream",
     "text": [
      "0.9074875739507839\n"
     ]
    }
   ],
   "source": [
    "#Calculate R-squared value = ssr/sst\n",
    "#ssr=> sum of square of residual =>sum of (residual = predicted - y_mean)^2\n",
    "ssr = np.sum((y_predicted - mean_y)**2)\n",
    "\n",
    "# sst =>sum of squares of (actualValue - y_mean), actual values are stored in evaporation_coefficient[]\n",
    "sst = np.sum((evp_coeff_array - mean_y)**2)\n",
    "\n",
    "r_squared = ssr/sst\n",
    "print(r_squared)"
   ]
  },
  {
   "cell_type": "code",
   "execution_count": 12,
   "id": "84ba905d",
   "metadata": {},
   "outputs": [
    {
     "name": "stdout",
     "output_type": "stream",
     "text": [
      "Evaporation coefficient when velocity is 250: 1.0055920644761314\n"
     ]
    }
   ],
   "source": [
    "# Find the value evaporation coefficient for air velocity =250.  \n",
    "ecFor250 = predict(250)\n",
    "print(f\"Evaporation coefficient when velocity is 250: {ecFor250}\")"
   ]
  }
 ],
 "metadata": {
  "kernelspec": {
   "display_name": "Python 3 (ipykernel)",
   "language": "python",
   "name": "python3"
  },
  "language_info": {
   "codemirror_mode": {
    "name": "ipython",
    "version": 3
   },
   "file_extension": ".py",
   "mimetype": "text/x-python",
   "name": "python",
   "nbconvert_exporter": "python",
   "pygments_lexer": "ipython3",
   "version": "3.11.1"
  }
 },
 "nbformat": 4,
 "nbformat_minor": 5
}
